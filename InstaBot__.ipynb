{
 "cells": [
  {
   "cell_type": "markdown",
   "id": "97c9ba4c",
   "metadata": {},
   "source": [
    "## Importing Libraries"
   ]
  },
  {
   "cell_type": "code",
   "execution_count": 645,
   "id": "9fb562c7",
   "metadata": {},
   "outputs": [],
   "source": [
    "from selenium.webdriver.chrome.service import Service\n",
    "from selenium import webdriver\n",
    "service=Service(executable_path='/path/to/chromedriver')\n",
    "driver=webdriver.Chrome(service=service)"
   ]
  },
  {
   "cell_type": "code",
   "execution_count": 591,
   "id": "83e28576",
   "metadata": {},
   "outputs": [],
   "source": [
    "from selenium.webdriver.common.by import By\n",
    "from selenium.webdriver.common.keys import Keys\n",
    "import time\n",
    "from selenium.common.exceptions import NoSuchElementException\n",
    "from selenium.common.exceptions import StaleElementReferenceException\n",
    "from selenium.common.exceptions import TimeoutException\n",
    "from selenium.webdriver.support.ui import WebDriverWait\n",
    "from selenium.webdriver.support import expected_conditions as EC\n",
    "from selenium.webdriver.support.select import Select"
   ]
  },
  {
   "cell_type": "code",
   "execution_count": 646,
   "id": "9eb62ebd",
   "metadata": {},
   "outputs": [],
   "source": [
    "driver.get('https://www.instagram.com/')\n",
    "driver.maximize_window()"
   ]
  },
  {
   "cell_type": "markdown",
   "id": "b79cb993",
   "metadata": {},
   "source": [
    "## 1.Login using User-details"
   ]
  },
  {
   "cell_type": "code",
   "execution_count": 647,
   "id": "5bfac371",
   "metadata": {},
   "outputs": [],
   "source": [
    "user_name=driver.find_element(By.NAME,'username')\n",
    "user_name.send_keys('sample_username')"
   ]
  },
  {
   "cell_type": "code",
   "execution_count": 648,
   "id": "8b4f8707",
   "metadata": {},
   "outputs": [],
   "source": [
    "password=driver.find_element(By.NAME,'password')\n",
    "password.send_keys('sample_password')"
   ]
  },
  {
   "cell_type": "code",
   "execution_count": 649,
   "id": "c7396f51",
   "metadata": {},
   "outputs": [],
   "source": [
    "login=driver.find_element(By.XPATH,'//button[contains(@class,\"_acan _acap _acas _aj1-\")]')\n",
    "login.click()"
   ]
  },
  {
   "cell_type": "markdown",
   "id": "8015a3c5",
   "metadata": {},
   "source": [
    "## Turn-off Notifications"
   ]
  },
  {
   "cell_type": "code",
   "execution_count": 650,
   "id": "d88b8a1f",
   "metadata": {},
   "outputs": [],
   "source": [
    "notif=driver.find_element(By.XPATH,'//button[@class=\"_a9-- _a9_1\"]')\n",
    "notif.click()"
   ]
  },
  {
   "cell_type": "markdown",
   "id": "36bc9163",
   "metadata": {},
   "source": [
    "## 2.Finding food-related blogs"
   ]
  },
  {
   "cell_type": "code",
   "execution_count": 603,
   "id": "0739d980",
   "metadata": {},
   "outputs": [],
   "source": [
    "search=driver.find_elements(By.XPATH,'//div[starts-with(@class,\"x1n2onr6\")]/a[starts-with(@class,\"x1i10hfl \")]')\n",
    "s1=search[1]\n",
    "s1.click()\n",
    "WebDriverWait(driver, 10).until(EC.presence_of_element_located(((By.XPATH,'//input[@aria-label=\"Search input\"]'))))\n",
    "search=driver.find_element(By.XPATH,'//input[@aria-label=\"Search input\"]')\n",
    "search.send_keys('food')"
   ]
  },
  {
   "cell_type": "markdown",
   "id": "19322e4d",
   "metadata": {},
   "source": [
    "#### Printing food_pages using Beautiful_soup"
   ]
  },
  {
   "cell_type": "code",
   "execution_count": 604,
   "id": "1e9e1976",
   "metadata": {},
   "outputs": [],
   "source": [
    "from bs4 import BeautifulSoup\n",
    "data = BeautifulSoup(driver.page_source)"
   ]
  },
  {
   "cell_type": "code",
   "execution_count": 605,
   "id": "29a81690",
   "metadata": {},
   "outputs": [],
   "source": [
    "class1=data.find_all(class_=\"x193iq5w xeuugli x1fj9vlw x13faqbe x1vvkbs xt0psk2 x1i0vuye xvs91rp x1s688f x5n08af x10wh9bi x1wdrske x8viiok x18hxmgj\" )"
   ]
  },
  {
   "cell_type": "code",
   "execution_count": 606,
   "id": "9d9b346e",
   "metadata": {},
   "outputs": [
    {
     "name": "stdout",
     "output_type": "stream",
     "text": [
      "foodies_findings\n",
      "foodnetwork\n",
      "foodpharmer\n",
      "hyderabadfoodich\n",
      "yourfoodlab\n",
      "chaibisketfood\n",
      "food\n",
      "vismaifoodies\n",
      "wirallyfood\n",
      "foods.nepal\n",
      "food.and.frolic\n",
      "foodie_incarnate\n",
      "delhifoodguide\n",
      "food_chichas\n",
      "nepal.food\n",
      "food52\n",
      "foodonfarm\n",
      "foodiesfood_court\n",
      "foodies_ikkada\n",
      "foodporn\n",
      "insiderfood\n",
      "hungrymahi\n",
      "nom.nom.foodie\n",
      "foodwithbhavna\n",
      "indianfootball\n",
      "hyderabadfoodtrip\n",
      "hyderabadi.foodstuff\n",
      "foodie_wala_\n",
      "fooddolls\n",
      "satshyaa\n",
      "foodzeee\n",
      "foodsbible\n",
      "bluetribeofficial\n",
      "kl.foodie\n",
      "foodfusionpk\n",
      "eyecalltheshots\n",
      "mumbaifoodie\n",
      "foodyybangali\n",
      "dr.foodiehyd\n",
      "foodandwine\n",
      "foodwithteja\n",
      "hyderabadifoodreviews\n",
      "praju_food\n",
      "foodies_of_bhubaneswar\n",
      "foodistamm\n",
      "food.india93\n",
      "foodie_ankitjsr\n",
      "kiasmran\n",
      "foodwala_official\n",
      "thindham_thirugudham\n"
     ]
    }
   ],
   "source": [
    "for i in class1[:-4]:\n",
    "    if not(i.text.startswith('#')):\n",
    "        print(i.text)"
   ]
  },
  {
   "cell_type": "markdown",
   "id": "30360f81",
   "metadata": {},
   "source": [
    "## 3.Searching and Opening So-Delhi Profile "
   ]
  },
  {
   "cell_type": "code",
   "execution_count": null,
   "id": "4e65a2d8",
   "metadata": {},
   "outputs": [],
   "source": [
    "##Clearing the search made previously - \"food\""
   ]
  },
  {
   "cell_type": "code",
   "execution_count": 607,
   "id": "db3bf919",
   "metadata": {},
   "outputs": [],
   "source": [
    "search.clear()"
   ]
  },
  {
   "cell_type": "code",
   "execution_count": 609,
   "id": "96b213b8",
   "metadata": {},
   "outputs": [],
   "source": [
    "driver.back()"
   ]
  },
  {
   "cell_type": "code",
   "execution_count": 610,
   "id": "fad60f5c",
   "metadata": {},
   "outputs": [],
   "source": [
    "search=driver.find_elements(By.XPATH,'//div[starts-with(@class,\"x1n2onr6\")]/a[starts-with(@class,\"x1i10hfl \")]')\n",
    "s1=search[1]\n",
    "s1.click()\n",
    "WebDriverWait(driver, 10).until(EC.presence_of_element_located(((By.XPATH,'//input[@aria-label=\"Search input\"]'))))\n",
    "search=driver.find_element(By.XPATH,'//input[@aria-label=\"Search input\"]')\n",
    "search.send_keys('So Delhi')\n",
    "WebDriverWait(driver, 10).until(EC.presence_of_element_located(((By.CLASS_NAME,'_abn_'))))\n",
    "sod=driver.find_element(By.CLASS_NAME,'_abn_')\n",
    "sod.click()"
   ]
  },
  {
   "cell_type": "markdown",
   "id": "9dd89af0",
   "metadata": {},
   "source": [
    "## 4.Follow and Unfollow a given_handle - So-Delhi"
   ]
  },
  {
   "cell_type": "markdown",
   "id": "ca290603",
   "metadata": {},
   "source": [
    "### Following the handle"
   ]
  },
  {
   "cell_type": "code",
   "execution_count": 611,
   "id": "a8b0f752",
   "metadata": {},
   "outputs": [],
   "source": [
    "follow=driver.find_element(By.XPATH,'//button[contains(@class,\"_acan \")]')\n",
    "text=follow.text\n",
    "if text=='Following':\n",
    "    print(\"Already Following\")\n",
    "else:\n",
    "    follow.click()"
   ]
  },
  {
   "cell_type": "markdown",
   "id": "b5d718fe",
   "metadata": {},
   "source": [
    "### Unfollowing the handle"
   ]
  },
  {
   "cell_type": "code",
   "execution_count": 612,
   "id": "d57cab4d",
   "metadata": {},
   "outputs": [],
   "source": [
    "text=follow.text\n",
    "if text==\"Following\":\n",
    "    follow.click()\n",
    "    WebDriverWait(driver, 10).until(EC.presence_of_element_located(((By.XPATH,'//div[@role=\"button\"]'))))\n",
    "    unfollow=driver.find_elements(By.XPATH,'//div[@role=\"button\"]')\n",
    "    unfollow[-1].click()\n",
    "else:\n",
    "    print(\"Already Unfollowed\")"
   ]
  },
  {
   "cell_type": "markdown",
   "id": "4e044512",
   "metadata": {},
   "source": [
    "## 5.Like and Unlike posts"
   ]
  },
  {
   "cell_type": "code",
   "execution_count": 613,
   "id": "76dcadef",
   "metadata": {},
   "outputs": [],
   "source": [
    "driver.back()\n",
    "WebDriverWait(driver, 10).until(EC.presence_of_element_located(((By.XPATH,'//div[starts-with(@class,\"x1n2onr6\")]/a[starts-with(@class,\"x1i10hfl \")]'))))\n",
    "search=driver.find_elements(By.XPATH,'//div[starts-with(@class,\"x1n2onr6\")]/a[starts-with(@class,\"x1i10hfl \")]')\n",
    "s1=search[1]\n",
    "s1.click()\n",
    "WebDriverWait(driver, 10).until(EC.presence_of_element_located(((By.XPATH,'//input[@aria-label=\"Search input\"]'))))\n",
    "search1=driver.find_element(By.XPATH,'//input[@aria-label=\"Search input\"]')\n",
    "search1.send_keys(\"dilsefoodie\")"
   ]
  },
  {
   "cell_type": "code",
   "execution_count": 614,
   "id": "b5519239",
   "metadata": {},
   "outputs": [],
   "source": [
    "dilse=driver.find_element(By.XPATH,'//div[contains(@class,\"x9f619\")]/div/a')\n",
    "dilse.click()"
   ]
  },
  {
   "cell_type": "markdown",
   "id": "9cffbb95",
   "metadata": {},
   "source": [
    "#### To Load data"
   ]
  },
  {
   "cell_type": "code",
   "execution_count": 615,
   "id": "7eb6cb7a",
   "metadata": {},
   "outputs": [],
   "source": [
    "driver.execute_script('window.scrollBy(0, 3000);')\n",
    "time.sleep(2.5)\n",
    "driver.execute_script('window.scrollBy(0, 3000);')\n",
    "time.sleep(2.5)"
   ]
  },
  {
   "cell_type": "code",
   "execution_count": 317,
   "id": "2919fb0c",
   "metadata": {},
   "outputs": [],
   "source": [
    "#like=driver.find_element(By.XPATH,'//span[@class=\"_aamw\"]')\n",
    "if driver.find_elements(By.XPATH,'//svg[@aria-label=\"Like\"]'):\n",
    "    WebDriverWait(driver, 10).until(EC.presence_of_element_located((By.XPATH,\"//span[@class='_aamw']\")))\n",
    "    driver.find_element(By.XPATH,'//span[@class=\"_aamw\"]').click()"
   ]
  },
  {
   "cell_type": "code",
   "execution_count": 616,
   "id": "25f2c8c1",
   "metadata": {},
   "outputs": [],
   "source": [
    "driver.execute_script('window.scrollTo(0, 0)')"
   ]
  },
  {
   "cell_type": "markdown",
   "id": "56472cc9",
   "metadata": {},
   "source": [
    "## Like the posts"
   ]
  },
  {
   "cell_type": "code",
   "execution_count": 731,
   "id": "dbcb1254",
   "metadata": {},
   "outputs": [],
   "source": [
    "driver.refresh()"
   ]
  },
  {
   "cell_type": "code",
   "execution_count": 740,
   "id": "4fcb621b",
   "metadata": {},
   "outputs": [
    {
     "name": "stdout",
     "output_type": "stream",
     "text": [
      "printed 30\n"
     ]
    }
   ],
   "source": [
    "count = 0\n",
    "\n",
    "for i in driver.find_elements(By.XPATH,'//div[@class=\"_aagw\"]'):\n",
    "    i.click()\n",
    "    WebDriverWait(driver, 10).until(EC.presence_of_element_located((By.XPATH,'//span[@class=\"_aamw\"]')))\n",
    "    if driver.find_elements(By.XPATH,'//span[@class=\"_aamw\"]/svg[@aria-label=\"Like\"]'):\n",
    "        driver.find_element(By.XPATH,'//span[@class=\"_aamw\"]').click()   \n",
    "    else:\n",
    "        print(\"Already Liked\")\n",
    "    driver.back()\n",
    "    time.sleep(0.8)\n",
    "    WebDriverWait(driver, 10).until(EC.presence_of_element_located((By.XPATH,'//div[@class=\"_aagw\"]')))\n",
    "    count += 1\n",
    "    if(count%3==0):\n",
    "        driver.execute_script('window.scrollBy(0,500);')\n",
    "        time.sleep(2.5)\n",
    "    if count==30:\n",
    "        print('printed 30')\n",
    "        break   \n",
    "driver.execute_script('window.scrollTo(0, 0)')\n",
    "    "
   ]
  },
  {
   "cell_type": "markdown",
   "id": "220f9ec7",
   "metadata": {},
   "source": [
    "## Unliking the posts"
   ]
  },
  {
   "cell_type": "code",
   "execution_count": 741,
   "id": "a31e0947",
   "metadata": {},
   "outputs": [
    {
     "name": "stdout",
     "output_type": "stream",
     "text": [
      "printed 30\n"
     ]
    }
   ],
   "source": [
    "count = 0\n",
    "\n",
    "for i in driver.find_elements(By.XPATH,'//div[@class=\"_aagw\"]'):\n",
    "    i.click()\n",
    "    WebDriverWait(driver, 10).until(EC.presence_of_element_located((By.XPATH,'//span[@class=\"_aamw\"]')))\n",
    "    if driver.find_elements(By.XPATH,'//span[@class=\"_aamw\"]/svg[@aria-label=\"Like\"]'):\n",
    "        driver.find_element(By.XPATH,'//span[@class=\"_aamw\"]').click()   \n",
    "    else:\n",
    "        print(\"Already UnLiked\")\n",
    "    driver.back()\n",
    "    time.sleep(0.8)\n",
    "    WebDriverWait(driver, 10).until(EC.presence_of_element_located((By.XPATH,'//div[@class=\"_aagw\"]')))\n",
    "    count += 1\n",
    "    if(count%3==0):\n",
    "        driver.execute_script('window.scrollBy(0,500);')\n",
    "        time.sleep(2.5)\n",
    "    if count==30:\n",
    "        print('printed 30')\n",
    "        break   \n",
    "driver.execute_script('window.scrollTo(0, 0)')"
   ]
  },
  {
   "cell_type": "markdown",
   "id": "32f7ed28",
   "metadata": {},
   "source": [
    "## 6.Extracting list of followers"
   ]
  },
  {
   "cell_type": "markdown",
   "id": "d18f07be",
   "metadata": {},
   "source": [
    "### Followers of foodtalkindia"
   ]
  },
  {
   "cell_type": "code",
   "execution_count": 567,
   "id": "1fdb572b",
   "metadata": {},
   "outputs": [],
   "source": [
    "search=driver.find_elements(By.XPATH,'//div[starts-with(@class,\"x1n2onr6\")]/a[starts-with(@class,\"x1i10hfl \")]')\n",
    "s1=search[1]\n",
    "s1.click()\n",
    "WebDriverWait(driver, 10).until(EC.presence_of_element_located((By.XPATH,'//input[@aria-label=\"Search input\"]')))\n",
    "search1=driver.find_element(By.XPATH,'//input[@aria-label=\"Search input\"]')\n",
    "search1.send_keys(\"foodtalkindia\")\n",
    "WebDriverWait(driver, 10).until(EC.presence_of_element_located((By.XPATH,'//div[@class=\"_abn_\"]')))\n",
    "foodtalkindia=driver.find_element(By.XPATH,'//div[@class=\"_abn_\"]')\n",
    "foodtalkindia.click()"
   ]
  },
  {
   "cell_type": "code",
   "execution_count": 568,
   "id": "8a08f479",
   "metadata": {},
   "outputs": [],
   "source": [
    "followers1=driver.find_element(By.XPATH,'//a[contains(@href,\"/foodtalkindia/followers/\")]')\n",
    "followers1.click()"
   ]
  },
  {
   "cell_type": "code",
   "execution_count": 571,
   "id": "02ea8ab3",
   "metadata": {},
   "outputs": [],
   "source": [
    "driver.execute_script('window.scrollBy(0,5000);')"
   ]
  },
  {
   "cell_type": "code",
   "execution_count": 572,
   "id": "390fb1de",
   "metadata": {},
   "outputs": [
    {
     "name": "stdout",
     "output_type": "stream",
     "text": [
      "sele_na_hilal\n",
      "manpreetkaurfst1\n",
      "mahitha_12345678\n",
      "positivevibrationsbyshivani\n",
      "unclaimed22\n",
      "chef_amisha_doshi\n",
      "archstudiobyhm\n",
      "balajipurevegmumbai\n",
      "bishal_2008_100\n",
      "syedbushra123456\n",
      "butler_cafe_prayagraj_\n",
      "ekaiva_21\n",
      "currynaari\n",
      "danish_zain_949912023\n",
      "devim212\n",
      "dhivyakrish_konidela\n",
      "the.sarfiri.girl\n",
      "honeybee.lifestylecreator\n",
      "cabala_4\n",
      "melbournefoodiequeen\n",
      "liver_kin\n",
      "momsinvention\n",
      "novotelchandigarh\n",
      "ohhdailyfresh\n",
      "paul_anderso88\n",
      "pi.ntukumar2298\n",
      "prickytales\n",
      "raginianand_\n",
      "raminderrbakshi\n",
      "plush_weddings\n",
      "sakhi.talwar\n",
      "sanjay.sweets\n",
      "sanvisanvi5439\n",
      "sunshine_sheetal01\n",
      "ishivanijindal\n",
      "shd.fancy_dosa_\n",
      "cheekuisine\n",
      "thekainmommy\n",
      "syedzafar_imam\n",
      "tahirsultan_food\n",
      "kitchenetterp2020\n",
      "vansh.ranjeet\n",
      "thoughts_com_in\n",
      "bumptobabyy\n",
      "vicky.9832\n",
      "viren_kapur_candyflip\n",
      "g___yogesh\n",
      "_sh_varun_2.0\n",
      "zee.pd_\n",
      "asifshab6789\n"
     ]
    }
   ],
   "source": [
    "followers1_list=driver.find_elements(By.XPATH,'//span[@class=\"_aacl _aaco _aacw _aacx _aad7 _aade\"]')\n",
    "for i in followers1_list:\n",
    "    print(i.text)"
   ]
  },
  {
   "cell_type": "code",
   "execution_count": null,
   "id": "770d0a63",
   "metadata": {},
   "outputs": [],
   "source": [
    "## foodtalkIndia restricted view to only till few followers,so 500 followers cannot be printed."
   ]
  },
  {
   "cell_type": "markdown",
   "id": "1496e19e",
   "metadata": {},
   "source": [
    "### Followers of sodelhi"
   ]
  },
  {
   "cell_type": "code",
   "execution_count": null,
   "id": "cfc2ef7c",
   "metadata": {},
   "outputs": [],
   "source": [
    "driver.back()"
   ]
  },
  {
   "cell_type": "code",
   "execution_count": 574,
   "id": "eb25e0da",
   "metadata": {},
   "outputs": [],
   "source": [
    "search=driver.find_elements(By.XPATH,'//div[starts-with(@class,\"x1n2onr6\")]/a[starts-with(@class,\"x1i10hfl \")]')\n",
    "s1=search[1]\n",
    "s1.click()\n",
    "WebDriverWait(driver, 10).until(EC.presence_of_element_located((By.XPATH,'//input[@aria-label=\"Search input\"]')))\n",
    "search1=driver.find_element(By.XPATH,'//input[@aria-label=\"Search input\"]')\n",
    "search1.send_keys(\"sodelhi\")\n",
    "WebDriverWait(driver, 10).until(EC.presence_of_element_located((By.XPATH,'//div[@class=\"_abn_\"]')))\n",
    "sodelhi=driver.find_element(By.XPATH,'//div[@class=\"_abn_\"]')\n",
    "sodelhi.click()  "
   ]
  },
  {
   "cell_type": "code",
   "execution_count": 575,
   "id": "457ea7cb",
   "metadata": {},
   "outputs": [],
   "source": [
    "followers2=driver.find_element(By.XPATH,'//a[contains(@href,\"/sodelhi/followers/\")]')\n",
    "followers2.click()"
   ]
  },
  {
   "cell_type": "code",
   "execution_count": 585,
   "id": "9d7320cc",
   "metadata": {},
   "outputs": [
    {
     "name": "stdout",
     "output_type": "stream",
     "text": [
      "barbiebella91\n",
      "nisharawat2690\n",
      "_.arru._111\n",
      "lotsofdramaaaaww\n",
      "insane_human1990\n",
      "kpmehandi9137\n",
      "sharmaamanvii\n",
      "anu.shka__sharma__\n",
      "bistrofrancaisdelhi\n",
      "adnanahmad7555\n",
      "mera_helper.adda\n",
      "this.side.masseyy\n",
      "hea.ther1992\n",
      "massagesaturhome\n",
      "aspirefinanciers\n",
      "ankitmishra0988\n",
      "yogitashukla73\n",
      "beingabdulgani027\n",
      "h_a_p_p_y_f_a_c_e_s\n",
      "thesoftchauhan\n",
      "25bijayalaxmi\n",
      "baisla__18\n",
      "devikachougulekhot\n",
      "kumarg8703\n",
      "true.living7090\n",
      "chxarry9\n",
      "fromdelhii\n",
      "saswatbalan\n",
      "1.00am._._\n",
      "yolo.shab\n",
      "gaon_ka_shaayar\n",
      "sameera4689\n",
      "harshdeep__\n",
      "vashisht1032\n",
      "hissariasahil\n",
      "thestylescholar\n",
      "heyy.comradee\n",
      "bauaraj3\n",
      "delhi_hot_boyy\n",
      "lakhdeep_kaur_\n",
      "tejaswani.vaid_crafty_arts\n",
      "sumatiiaroraa\n",
      "amulya.s_09\n",
      "_the_wallflower._\n",
      "umangbabbar1890\n",
      "_mittalriya\n",
      "jannatalii__\n",
      "ig_yatharth_dhar_2003_pvt\n",
      "j_itida\n",
      "__vaishalisingh__\n",
      "workaholic_soul\n",
      "beeyouunik\n",
      "anc1555\n",
      "vaishu_sparks009\n",
      "himani_malhotra11\n",
      "im___jack__\n",
      "silkee_agrawal\n",
      "awantika.mohan14\n",
      "kyaladkiihai\n",
      "_.nikhil.31\n",
      "romeo_00007__\n",
      "astrolit.me\n",
      "kiran.20march\n",
      "aanchalmadan_16\n",
      "brijwalkiran\n",
      "vaishalisharma3628\n",
      "aryan13r7\n",
      "neha_ranwa\n",
      "samir_hamdy76\n",
      "purvi2201_\n",
      "aadhyaa.singhh\n",
      "vani.gupta2405\n",
      "adityaajha_\n",
      "bijenderyashukhari\n",
      "bharti_bharat_rathi\n",
      "gurmeet_s0lanki\n",
      "pallvijindal123\n",
      "ankitarahejakapoor\n",
      "chefvikash_kumar\n",
      "_._sakshiii__._\n",
      "aimanq.97\n",
      "_.anshikkaaa.__\n"
     ]
    }
   ],
   "source": [
    "followers2_list=driver.find_elements(By.XPATH,'//span[@class=\"_aacl _aaco _aacw _aacx _aad7 _aade\"]')\n",
    "for i in followers2_list:\n",
    "    print(i.text)"
   ]
  },
  {
   "cell_type": "code",
   "execution_count": 586,
   "id": "1f8ec8c8",
   "metadata": {},
   "outputs": [],
   "source": [
    "driver.back()"
   ]
  },
  {
   "cell_type": "markdown",
   "id": "b881ee78",
   "metadata": {},
   "source": [
    "### All the followers of “foodtalkindia” that you are following but those who don’t follow you."
   ]
  },
  {
   "cell_type": "markdown",
   "id": "8503b42f",
   "metadata": {},
   "source": [
    "### Visiting foodtalkindia page and getting mutual followers list"
   ]
  },
  {
   "cell_type": "code",
   "execution_count": 700,
   "id": "d03def3c",
   "metadata": {},
   "outputs": [],
   "source": [
    "search=driver.find_elements(By.XPATH,'//div[starts-with(@class,\"x1n2onr6\")]/a[starts-with(@class,\"x1i10hfl \")]')\n",
    "s1=search[1]\n",
    "s1.click()\n",
    "WebDriverWait(driver, 10).until(EC.presence_of_element_located((By.XPATH,'//input[@aria-label=\"Search input\"]')))\n",
    "search1=driver.find_element(By.XPATH,'//input[@aria-label=\"Search input\"]')\n",
    "search1.send_keys(\"foodtalkindia\")\n",
    "WebDriverWait(driver, 10).until(EC.presence_of_element_located((By.XPATH,'//div[@class=\"_abn_\"]')))\n",
    "foodtalkindia=driver.find_element(By.XPATH,'//div[@class=\"_abn_\"]')\n",
    "foodtalkindia.click()"
   ]
  },
  {
   "cell_type": "code",
   "execution_count": 701,
   "id": "f7240054",
   "metadata": {},
   "outputs": [],
   "source": [
    "followed_by=driver.find_element(By.XPATH,'//span[@class=\"_aaai\"]')\n",
    "list1=followed_by.text"
   ]
  },
  {
   "cell_type": "code",
   "execution_count": 704,
   "id": "28fbd48f",
   "metadata": {},
   "outputs": [],
   "source": [
    "driver.back()\n",
    "driver.back()"
   ]
  },
  {
   "cell_type": "markdown",
   "id": "db77ab13",
   "metadata": {},
   "source": [
    "### Getting My_followers list"
   ]
  },
  {
   "cell_type": "code",
   "execution_count": 705,
   "id": "ffbc560d",
   "metadata": {},
   "outputs": [],
   "source": [
    "search=driver.find_elements(By.XPATH,'//div[starts-with(@class,\"x1n2onr6\")]/a[starts-with(@class,\"x1i10hfl \")]')\n",
    "s1=search[1]\n",
    "s1.click()\n",
    "WebDriverWait(driver, 10).until(EC.presence_of_element_located((By.XPATH,'//input[@aria-label=\"Search input\"]')))\n",
    "search1=driver.find_element(By.XPATH,'//input[@aria-label=\"Search input\"]')\n",
    "search1.send_keys(\"sample_username\")\n",
    "WebDriverWait(driver, 10).until(EC.presence_of_element_located((By.XPATH,'//div[@class=\"_abn_\"]')))\n",
    "my_acc=driver.find_element(By.XPATH,'//div[@class=\"_abn_\"]')\n",
    "my_acc.click()"
   ]
  },
  {
   "cell_type": "code",
   "execution_count": 706,
   "id": "befc5a3d",
   "metadata": {},
   "outputs": [],
   "source": [
    "followers=driver.find_element(By.XPATH,'//a[@href=\"/sample_username/followers/\"]')\n",
    "followers.click()"
   ]
  },
  {
   "cell_type": "code",
   "execution_count": 630,
   "id": "9ef3a2fd",
   "metadata": {},
   "outputs": [],
   "source": [
    "driver.execute_script('window.scrollBy(0,5000);')  #focus-shift"
   ]
  },
  {
   "cell_type": "markdown",
   "id": "2a105873",
   "metadata": {},
   "source": [
    "### Appending the followers common to both my account and foodtakindia"
   ]
  },
  {
   "cell_type": "code",
   "execution_count": 707,
   "id": "60e09f1b",
   "metadata": {},
   "outputs": [],
   "source": [
    "ans=[]\n",
    "flist=driver.find_elements(By.XPATH,'//span[@class=\"_aacl _aaco _aacw _aacx _aad7 _aade\"]')\n",
    "for i in flist:\n",
    "    if (i.text==list1):\n",
    "        ans.append(i.text)"
   ]
  },
  {
   "cell_type": "markdown",
   "id": "c28bd4f3",
   "metadata": {},
   "source": [
    "### Printing the followers whom I follow but those who don't follow me"
   ]
  },
  {
   "cell_type": "code",
   "execution_count": 708,
   "id": "88d2a045",
   "metadata": {},
   "outputs": [
    {
     "name": "stdout",
     "output_type": "stream",
     "text": [
      "darshanarajendran\n"
     ]
    }
   ],
   "source": [
    "if(len(ans)==0):\n",
    "    print(list1)"
   ]
  },
  {
   "cell_type": "markdown",
   "id": "8e0d46ea",
   "metadata": {},
   "source": [
    "## 7.Visiting Coding-Ninjas and checking their story"
   ]
  },
  {
   "cell_type": "code",
   "execution_count": 588,
   "id": "bfabaaec",
   "metadata": {},
   "outputs": [],
   "source": [
    "search=driver.find_elements(By.XPATH,'//div[starts-with(@class,\"x1n2onr6\")]/a[starts-with(@class,\"x1i10hfl \")]')\n",
    "s1=search[1]\n",
    "s1.click()\n",
    "WebDriverWait(driver, 10).until(EC.presence_of_element_located((By.XPATH,'//input[@aria-label=\"Search input\"]')))\n",
    "search1=driver.find_element(By.XPATH,'//input[@aria-label=\"Search input\"]')\n",
    "search1.send_keys(\"codingninjas\")\n",
    "WebDriverWait(driver, 10).until(EC.presence_of_element_located((By.XPATH,'//div[@class=\"_abn_\"]')))\n",
    "coding_ninjas=driver.find_element(By.XPATH,'//div[@class=\"_abn_\"]')\n",
    "coding_ninjas.click()"
   ]
  },
  {
   "cell_type": "code",
   "execution_count": 589,
   "id": "422d17a3",
   "metadata": {},
   "outputs": [
    {
     "name": "stdout",
     "output_type": "stream",
     "text": [
      "you have not seen the story.View it\n"
     ]
    }
   ],
   "source": [
    "if driver.find_element(By.XPATH,'//canvas[@height=\"210\"]'):\n",
    "    print(\"you have not seen the story.View it\")\n",
    "elif driver.find_element(By.XPATH,'//canvas[@height=\"208\"]'):\n",
    "    print(\"you have already seen the story\")\n",
    "else:\n",
    "    print(\"The user has no story \")"
   ]
  }
 ],
 "metadata": {
  "kernelspec": {
   "display_name": "Python 3 (ipykernel)",
   "language": "python",
   "name": "python3"
  },
  "language_info": {
   "codemirror_mode": {
    "name": "ipython",
    "version": 3
   },
   "file_extension": ".py",
   "mimetype": "text/x-python",
   "name": "python",
   "nbconvert_exporter": "python",
   "pygments_lexer": "ipython3",
   "version": "3.9.12"
  }
 },
 "nbformat": 4,
 "nbformat_minor": 5
}
